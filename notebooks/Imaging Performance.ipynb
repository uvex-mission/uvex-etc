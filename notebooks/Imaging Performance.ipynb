{
 "cells": [
  {
   "cell_type": "code",
   "execution_count": 1,
   "id": "1e2e8a6e-3dfd-49a6-aa0a-0d0cad4b5488",
   "metadata": {},
   "outputs": [],
   "source": [
    "from importlib import reload\n",
    "from uvex_etc import config, performance\n",
    "reload(config)\n",
    "reload(performance)\n",
    "survey = config.Survey()"
   ]
  },
  {
   "cell_type": "code",
   "execution_count": 2,
   "id": "14c81f51-1918-40ca-868d-da300173b067",
   "metadata": {},
   "outputs": [
    {
     "name": "stdout",
     "output_type": "stream",
     "text": [
      "nuv_exposure 300.0 s\n",
      "fuv_exposure 900.0 s\n",
      "dwell_time 900.0 s\n",
      "allsky_dwells 10\n",
      "obstime 2021-02-18 09:00:00.000\n",
      "nuv_deep_skycoord <SkyCoord (ICRS): (ra, dec) in deg\n",
      "    (269.7372, 66.025)>\n",
      "nuv_ave_skycoord <SkyCoord (GeocentricTrueEcliptic: equinox=J2000.000, obstime=2021-02-18 09:00:00.000): (lon, lat) in deg\n",
      "    (90., 5.)>\n",
      "fuv_deep_skycoord <SkyCoord (ICRS): (ra, dec) in deg\n",
      "    (269.7372, 66.025)>\n",
      "fuv_ave_skycoord <SkyCoord (Galactic): (l, b) in deg\n",
      "    (90., 15.)>\n",
      "lya_kr 20\n"
     ]
    }
   ],
   "source": [
    "survey.set_defaults()\n",
    "survey.info()"
   ]
  },
  {
   "cell_type": "code",
   "execution_count": 3,
   "id": "c899717b-8f29-4fd0-b0bd-27dc023b2559",
   "metadata": {},
   "outputs": [
    {
     "data": {
      "text/latex": [
       "$25.70958 \\; \\mathrm{mag}$$\\mathrm{\\left( \\mathrm{AB} \\right)}$"
      ],
      "text/plain": [
       "<Magnitude 25.70958022 mag(AB)>"
      ]
     },
     "execution_count": 3,
     "metadata": {},
     "output_type": "execute_result"
    }
   ],
   "source": [
    "performance.nuv_imaging_performance(survey)"
   ]
  },
  {
   "cell_type": "code",
   "execution_count": 4,
   "id": "456109d4-cfab-4004-bdc1-a05a3c6e516e",
   "metadata": {},
   "outputs": [
    {
     "name": "stderr",
     "output_type": "stream",
     "text": [
      "WARNING: Source spectrum will be extrapolated (at constant value for empirical model). [synphot.observation]\n"
     ]
    },
    {
     "data": {
      "text/latex": [
       "$25.598034 \\; \\mathrm{mag}$$\\mathrm{\\left( \\mathrm{AB} \\right)}$"
      ],
      "text/plain": [
       "<Magnitude 25.59803449 mag(AB)>"
      ]
     },
     "execution_count": 4,
     "metadata": {},
     "output_type": "execute_result"
    }
   ],
   "source": [
    "performance.fuv_imaging_performance(survey)"
   ]
  },
  {
   "cell_type": "code",
   "execution_count": 5,
   "id": "97cf5a06-aca8-4904-845a-1fdbfb64d30c",
   "metadata": {},
   "outputs": [],
   "source": [
    "survey.allsky_dwells=5"
   ]
  },
  {
   "cell_type": "code",
   "execution_count": 6,
   "id": "925e0d09-6fe0-425f-a24c-9f1f311af5e1",
   "metadata": {},
   "outputs": [
    {
     "name": "stdout",
     "output_type": "stream",
     "text": [
      "nuv_exposure 300.0 s\n",
      "fuv_exposure 900.0 s\n",
      "dwell_time 900.0 s\n",
      "allsky_dwells 5\n",
      "obstime 2021-02-18 09:00:00.000\n",
      "nuv_deep_skycoord <SkyCoord (ICRS): (ra, dec) in deg\n",
      "    (269.7372, 66.025)>\n",
      "nuv_ave_skycoord <SkyCoord (GeocentricTrueEcliptic: equinox=J2000.000, obstime=2021-02-18 09:00:00.000): (lon, lat) in deg\n",
      "    (90., 5.)>\n",
      "fuv_deep_skycoord <SkyCoord (ICRS): (ra, dec) in deg\n",
      "    (269.7372, 66.025)>\n",
      "fuv_ave_skycoord <SkyCoord (Galactic): (l, b) in deg\n",
      "    (90., 15.)>\n",
      "lya_kr 20\n"
     ]
    }
   ],
   "source": [
    "survey.info()"
   ]
  },
  {
   "cell_type": "code",
   "execution_count": 7,
   "id": "920232c6-0d4a-42c3-b78e-1c8859ffbece",
   "metadata": {},
   "outputs": [
    {
     "name": "stdout",
     "output_type": "stream",
     "text": [
      "25.318178922236196 mag(AB)\n",
      "25.200432258483747 mag(AB)\n"
     ]
    }
   ],
   "source": [
    "print(performance.nuv_imaging_performance(survey))\n",
    "print(performance.fuv_imaging_performance(survey))"
   ]
  },
  {
   "cell_type": "code",
   "execution_count": 8,
   "id": "0a0ae01d-51fc-4d61-a80a-069ca1669e9f",
   "metadata": {},
   "outputs": [],
   "source": [
    "survey.allsky_dwells=1"
   ]
  },
  {
   "cell_type": "code",
   "execution_count": 9,
   "id": "66168b0a-4122-4427-a2bc-2af5dc5574f9",
   "metadata": {},
   "outputs": [
    {
     "name": "stdout",
     "output_type": "stream",
     "text": [
      "24.380827282422842 mag(AB)\n",
      "24.237169743800408 mag(AB)\n"
     ]
    }
   ],
   "source": [
    "print(performance.nuv_imaging_performance(survey))\n",
    "print(performance.fuv_imaging_performance(survey))"
   ]
  },
  {
   "cell_type": "code",
   "execution_count": null,
   "id": "12038b25-529d-400f-8b6e-2749ead7d13d",
   "metadata": {},
   "outputs": [],
   "source": []
  }
 ],
 "metadata": {
  "kernelspec": {
   "display_name": "Python 3 (ipykernel)",
   "language": "python",
   "name": "python3"
  },
  "language_info": {
   "codemirror_mode": {
    "name": "ipython",
    "version": 3
   },
   "file_extension": ".py",
   "mimetype": "text/x-python",
   "name": "python",
   "nbconvert_exporter": "python",
   "pygments_lexer": "ipython3",
   "version": "3.9.16"
  }
 },
 "nbformat": 4,
 "nbformat_minor": 5
}
