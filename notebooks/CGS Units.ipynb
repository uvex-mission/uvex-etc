{
 "cells": [
  {
   "cell_type": "code",
   "execution_count": 41,
   "id": "2d8325b8-443d-499f-9c4c-deb937608c12",
   "metadata": {},
   "outputs": [],
   "source": [
    "import astropy.units as u\n",
    "from uvex_etc import filters\n",
    "nuv_band = filters.nuv_bandpass()\n",
    "fuv_band = filters.fuv_bandpass()\n",
    "\n",
    "FLAM = u.erg/u.s/u.cm**2/u.AA"
   ]
  },
  {
   "cell_type": "code",
   "execution_count": 42,
   "id": "debad386-1adb-4700-a9e6-372c20db0eb9",
   "metadata": {},
   "outputs": [],
   "source": [
    "nuv_lim = 25 * u.ABmag\n",
    "nuv_wave = nuv_band.wpeak()"
   ]
  },
  {
   "cell_type": "code",
   "execution_count": 43,
   "id": "f89228d8-08c8-4e2f-8927-38ea93c4d16e",
   "metadata": {},
   "outputs": [
    {
     "name": "stdout",
     "output_type": "stream",
     "text": [
      "2.0487022456206585e-18 erg / (Angstrom cm2 s)\n"
     ]
    }
   ],
   "source": [
    "nuv_flam = nuv_lim.to(FLAM, u.spectral_density(nuv_wave))\n",
    "print(nuv_flam)"
   ]
  },
  {
   "cell_type": "code",
   "execution_count": 45,
   "id": "3f50b16f-c6e6-479d-9f77-717f568776e2",
   "metadata": {},
   "outputs": [
    {
     "name": "stdout",
     "output_type": "stream",
     "text": [
      "1595.0 Angstrom\n",
      "4.2785767626256424e-18 erg / (Angstrom cm2 s)\n"
     ]
    }
   ],
   "source": [
    "fuv_lim = 25 * u.ABmag\n",
    "fuv_wave = fuv_band.wpeak()\n",
    "print(fuv_wave)\n",
    "fuv_flam = fuv_lim.to(FLAM, u.spectral_density(fuv_wave))\n",
    "print(fuv_flam)"
   ]
  },
  {
   "cell_type": "code",
   "execution_count": null,
   "id": "679b78af-35e7-4376-a594-fb3f83c8c537",
   "metadata": {},
   "outputs": [],
   "source": []
  }
 ],
 "metadata": {
  "kernelspec": {
   "display_name": "Python 3 (ipykernel)",
   "language": "python",
   "name": "python3"
  },
  "language_info": {
   "codemirror_mode": {
    "name": "ipython",
    "version": 3
   },
   "file_extension": ".py",
   "mimetype": "text/x-python",
   "name": "python",
   "nbconvert_exporter": "python",
   "pygments_lexer": "ipython3",
   "version": "3.9.13"
  }
 },
 "nbformat": 4,
 "nbformat_minor": 5
}
