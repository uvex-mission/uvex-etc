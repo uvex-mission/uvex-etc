{
 "cells": [
  {
   "cell_type": "code",
   "execution_count": 47,
   "id": "8fd0f94e-25bb-46ed-ad80-0b3093e790f9",
   "metadata": {},
   "outputs": [],
   "source": [
    "from importlib import reload\n",
    "from uvex_etc import config, performance, limiting_mag\n",
    "from astropy import units as u\n",
    "from astropy.coordinates import Distance\n",
    "from numpy import pi\n",
    "reload(config)\n",
    "reload(performance)\n",
    "survey = config.Survey()\n",
    "\n",
    "radec = survey.nuv_ave_skycoord\n",
    "\n",
    "# For now, assume *one* 900-s dwell per tile\n",
    "m_nuv = limiting_mag(radec.icrs, survey.obstime,\n",
    "                                      exposure=survey.nuv_exposure,\n",
    "                                      frames=3.0,\n",
    "                                      band = 'NUV',\n",
    "                                      kr = survey.lya_kr)\n",
    "m_fuv = limiting_mag(radec.icrs, survey.obstime,\n",
    "                                      exposure=survey.fuv_exposure,\n",
    "                                      frames=1.0,\n",
    "                                      band = 'FUV',\n",
    "                                      kr = survey.lya_kr)\n",
    "UVEX = config.UVEX()\n",
    "\n",
    "omega = (UVEX.FOV).to(u.sr)\n"
   ]
  },
  {
   "cell_type": "code",
   "execution_count": 58,
   "id": "eff006dc-8ba9-4761-9702-b0e1aba35a88",
   "metadata": {},
   "outputs": [
    {
     "name": "stdout",
     "output_type": "stream",
     "text": [
      "NUV single dwell limiting magnitude:    24.38 mag(AB)\n",
      "FUV single dwell limiting magnitude:    24.16 mag(AB)\n"
     ]
    }
   ],
   "source": [
    "# NUV single-dwell \n",
    "print(f'NUV single dwell limiting magnitude: {m_nuv:8.2f}')\n",
    "print(f'FUV single dwell limiting magnitude: {m_fuv:8.2f}')\n"
   ]
  },
  {
   "cell_type": "code",
   "execution_count": 59,
   "id": "a9c63a90-b130-49d4-b7be-6226ded5821f",
   "metadata": {},
   "outputs": [
    {
     "name": "stdout",
     "output_type": "stream",
     "text": [
      "Distance for NUV:   188.87 Mpc\n",
      "Distance for FUV:   170.94 Mpc\n"
     ]
    }
   ],
   "source": [
    "M = -12 * u.ABmag # Absolute magnitude\n",
    "dmod_nuv = m_nuv - M\n",
    "d_nuv = Distance(distmod=dmod_nuv)\n",
    "print(f'Distance for NUV: {d_nuv:8.2f}')\n",
    "M = -12 * u.ABmag # Absolute magnitude\n",
    "dmod_fuv = m_fuv - M\n",
    "d_fuv = Distance(distmod=dmod_fuv)\n",
    "print(f'Distance for FUV: {d_fuv:8.2f}')"
   ]
  },
  {
   "cell_type": "code",
   "execution_count": 57,
   "id": "69ad1751-237f-4810-af36-7342f3e79307",
   "metadata": {},
   "outputs": [
    {
     "name": "stdout",
     "output_type": "stream",
     "text": [
      "NUV Volumetric survey speed:  8002.71 Mpc3 / h\n",
      "FUV Volumetric survey speed:  5932.59 Mpc3 / h\n"
     ]
    }
   ],
   "source": [
    "# Survey speed from https://iopscience.iop.org/article/10.1088/1538-3873/128/966/084501/pdf\n",
    "vdot_nuv = (omega / (4 * pi*u.sr)) * (d_nuv**3) / (survey.fuv_exposure)\n",
    "print(f'NUV Volumetric survey speed: {vdot_nuv.to(u.Mpc**3 / u.hr):8.2f}')\n",
    "\n",
    "vdot_fuv = (omega / (4 * pi*u.sr)) * (d_fuv**3) / (survey.fuv_exposure)\n",
    "print(f'FUV Volumetric survey speed: {vdot_fuv.to(u.Mpc**3 / u.hr):8.2f}')\n"
   ]
  },
  {
   "cell_type": "code",
   "execution_count": null,
   "id": "d6d03507-b22e-4662-9578-f2db16f7cc31",
   "metadata": {},
   "outputs": [],
   "source": []
  }
 ],
 "metadata": {
  "kernelspec": {
   "display_name": "Python 3 (ipykernel)",
   "language": "python",
   "name": "python3"
  },
  "language_info": {
   "codemirror_mode": {
    "name": "ipython",
    "version": 3
   },
   "file_extension": ".py",
   "mimetype": "text/x-python",
   "name": "python",
   "nbconvert_exporter": "python",
   "pygments_lexer": "ipython3",
   "version": "3.9.13"
  }
 },
 "nbformat": 4,
 "nbformat_minor": 5
}
